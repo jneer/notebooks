{
 "cells": [
  {
   "cell_type": "code",
   "execution_count": 1,
   "metadata": {
    "collapsed": false
   },
   "outputs": [],
   "source": [
    "%pylab inline\n",
    "import seaborn as sns\n",
    "sns.set_style('darkgrid')\n",
    "sns.set_context('talk')"
   ]
  },
  {
   "cell_type": "markdown",
   "metadata": {},
   "source": [
    "## OPO locking"
   ]
  },
  {
   "cell_type": "markdown",
   "metadata": {},
   "source": [
    "Expected intracavity field, transmission and reflection from resonant cavity with input injected through high-reflector (M3) or coupling mirror (M4):"
   ]
  },
  {
   "cell_type": "code",
   "execution_count": 15,
   "metadata": {
    "collapsed": true
   },
   "outputs": [],
   "source": [
    "# cavity round-trip field reduction factor\n",
    "gm = lambda T1, T2: sqrt((1 - T1) * (1 - T2))\n",
    "\n",
    "# cavity intensity build-up factor\n",
    "buf = lambda T1, T2: 1 / (1 - gm(T1, T2))**2\n",
    "\n",
    "# cavity power relative to input\n",
    "P_cav = lambda T1, T2: T1 * buf(T1, T2)\n",
    "\n",
    "# cavity transmitted power relative to input\n",
    "P_trans = lambda T1, T2: T2 * P_cav(T1, T2)\n",
    "\n",
    "# cavity reflected power relative to input\n",
    "P_refl = lambda T1, T2: (1 - T1 - gm(T1, T2))**2 / (1 - T1) * buf(T1, T2)\n",
    "\n",
    "# finesse\n",
    "F = lambda T1, T2: pi * sqrt(gm(T1, T2)) / (1 - gm(T1, T2))"
   ]
  },
  {
   "cell_type": "code",
   "execution_count": 16,
   "metadata": {
    "collapsed": false
   },
   "outputs": [],
   "source": [
    "T1 = .0001\n",
    "T2 = .10\n",
    "print('P_cav: {:.3g}'.format(P_cav(T1, T2)))\n",
    "print('P_trans: {:.3g}'.format(P_trans(T1, T2)))\n",
    "print('P_refl: {:.3g}'.format(P_refl(T1, T2)))"
   ]
  },
  {
   "cell_type": "code",
   "execution_count": 17,
   "metadata": {
    "collapsed": false
   },
   "outputs": [],
   "source": [
    "T1 = .10\n",
    "T2 = .0001\n",
    "print('P_cav: {:.3g}'.format(P_cav(T1, T2)))\n",
    "print('P_trans: {:.3g}'.format(P_trans(T1, T2)))\n",
    "print('P_refl: {:.3g}'.format(P_refl(T1, T2)))"
   ]
  },
  {
   "cell_type": "code",
   "execution_count": 6,
   "metadata": {
    "collapsed": false
   },
   "outputs": [],
   "source": [
    "buf(T1, T2), F(T1, T2)"
   ]
  },
  {
   "cell_type": "markdown",
   "metadata": {},
   "source": [
    "### PDH signal"
   ]
  },
  {
   "cell_type": "markdown",
   "metadata": {},
   "source": [
    "* Reflection and transmission amplitude spectrum (R, T); \n",
    "* PDH target function ($\\chi$) from [Wikipedia](https://en.wikipedia.org/wiki/Pound%E2%80%93Drever%E2%80%93Hall_technique#PDH_readout_function);\n",
    "* PDH detected signals ($V_R$, $V_T$) assuming 1 unit of injected power and a detector response of 1 V / unit optical power.\n",
    "\n",
    "Parameters:\n",
    "\n",
    "* r1, r2: amplitude reflection coefficients of input mirror and second mirror\n",
    "* L: cavity roundtrip length\n",
    "* omm: angular frequency of modulation signal\n",
    "* om: angular frequency detuning of light relative to cavity resonance\n",
    "* phi: demodulation phase\n",
    "* loss: intra-cavity intensity loss\n",
    "* beta: amplitude of modulation signal relative to half-wave voltage\n",
    "\n",
    "For the demodulation, it is assumed that the electronic LO has an amplitude of 1 V."
   ]
  },
  {
   "cell_type": "code",
   "execution_count": 8,
   "metadata": {
    "collapsed": false
   },
   "outputs": [],
   "source": [
    "roundtripphase = lambda L, om: exp(1j * om * L / 3e11)\n",
    "R = lambda r1, r2, L, om, loss=0: ((-r1 + r2 * sqrt(1-loss) * roundtripphase(L, om)) / \n",
    "                                   (1 - r1 * r2 * sqrt(1-loss) * roundtripphase(L, om)))\n",
    "T = lambda r1, r2, L, om, loss=0: (sqrt(1 - r1**2) * sqrt(1 - r2**2) * sqrt(sqrt(1-loss) * roundtripphase(L, om)) / \n",
    "                                   (1 - r1 * r2 * sqrt(1-loss) * roundtripphase(L, om)))\n",
    "\n",
    "chiR = lambda r1, r2, L, omm, om, loss=0: (R(r1, r2, L, om, loss) * conj(R(r1, r2, L, om + omm, loss)) - \n",
    "                                   conj(R(r1, r2, L, om, loss)) * R(r1, r2, L, om - omm, loss))\n",
    "VR = lambda r1, r2, L, omm, beta, om, phi, loss=0: (\n",
    "    .5 * beta * real(chiR(r1, r2, L, omm, om, loss)) * cos(phi) + \n",
    "    .5 * beta * imag(chiR(r1, r2, L, omm, om, loss)) * sin(phi))\n",
    "chiT = lambda r1, r2, L, omm, om, loss=0: (T(r1, r2, L, om, loss) * conj(T(r1, r2, L, om + omm, loss)) - \n",
    "                                   conj(T(r1, r2, L, om, loss)) * T(r1, r2, L, om - omm, loss))\n",
    "VT = lambda r1, r2, L, omm, beta, om, phi, loss=0: (\n",
    "    .5 * beta * real(chiT(r1, r2, L, omm, om, loss)) * cos(phi) + \n",
    "    .5 * beta * imag(chiT(r1, r2, L, omm, om, loss)) * sin(phi))"
   ]
  },
  {
   "cell_type": "code",
   "execution_count": 17,
   "metadata": {
    "collapsed": false
   },
   "outputs": [],
   "source": [
    "L = 320\n",
    "fm = 30\n",
    "R1 = .9999\n",
    "R2 = .90\n",
    "loss = .003\n",
    "beta = 5/360 # our EOM's halfwave-voltage is 360 V\n",
    "\n",
    "r1 = sqrt(R1)\n",
    "r2 = sqrt(R2)\n",
    "omm = 2*pi * fm * 1e6\n",
    "f = linspace(-80e6, 80e6, 500)\n",
    "\n",
    "fig, axs = subplots(2, 2, figsize=(12, 8))\n",
    "sca(axs[0,0])\n",
    "plot(f, VR(r1, r2, L, omm, beta, 2*pi*f, 0, loss))\n",
    "plot(f, VR(r1, r2, L, omm, beta, 2*pi*f, pi/2, loss))\n",
    "title('$V_R$')\n",
    "sca(axs[1,0])\n",
    "plot(f, VT(r1, r2, L, omm, beta, 2*pi*f, 0, loss))\n",
    "plot(f, VT(r1, r2, L, omm, beta, 2*pi*f, pi/2, loss))\n",
    "title('$V_T$')\n",
    "sca(axs[0,1])\n",
    "plot(f, abs(R(r1, r2, L, 2*pi*f, loss))**2)\n",
    "title('R')\n",
    "sca(axs[1,1])\n",
    "plot(f, abs(T(r1, r2, L, 2*pi*f, loss))**2)\n",
    "title('T') "
   ]
  },
  {
   "cell_type": "code",
   "execution_count": 16,
   "metadata": {
    "collapsed": false
   },
   "outputs": [],
   "source": [
    "L = 320\n",
    "fm = 30\n",
    "R1 = .90\n",
    "R2 = .9999\n",
    "loss = .003\n",
    "beta = 5/360 # our EOM's halfwave-voltage is 360 V\n",
    "\n",
    "r1 = sqrt(R1)\n",
    "r2 = sqrt(R2)\n",
    "omm = 2*pi * fm * 1e6\n",
    "f = linspace(-80e6, 80e6, 500)\n",
    "\n",
    "fig, axs = subplots(2, 2, figsize=(12, 8))\n",
    "sca(axs[0,0])\n",
    "plot(f, VR(r1, r2, L, omm, beta, 2*pi*f, 0, loss))\n",
    "plot(f, VR(r1, r2, L, omm, beta, 2*pi*f, pi/2, loss))\n",
    "title('$V_R$')\n",
    "sca(axs[1,0])\n",
    "plot(f, VT(r1, r2, L, omm, beta, 2*pi*f, 0, loss))\n",
    "plot(f, VT(r1, r2, L, omm, beta, 2*pi*f, pi/2, loss))\n",
    "title('$V_T$')\n",
    "sca(axs[0,1])\n",
    "plot(f, abs(R(r1, r2, L, 2*pi*f, loss))**2)\n",
    "title('R')\n",
    "sca(axs[1,1])\n",
    "plot(f, abs(T(r1, r2, L, 2*pi*f, loss))**2)\n",
    "title('T') "
   ]
  },
  {
   "cell_type": "code",
   "execution_count": null,
   "metadata": {
    "collapsed": true
   },
   "outputs": [],
   "source": []
  }
 ],
 "metadata": {
  "anaconda-cloud": {},
  "git": {
   "suppress_outputs": true
  },
  "kernelspec": {
   "display_name": "Python [default]",
   "language": "python",
   "name": "python3"
  },
  "language_info": {
   "codemirror_mode": {
    "name": "ipython",
    "version": 3
   },
   "file_extension": ".py",
   "mimetype": "text/x-python",
   "name": "python",
   "nbconvert_exporter": "python",
   "pygments_lexer": "ipython3",
   "version": "3.5.2"
  }
 },
 "nbformat": 4,
 "nbformat_minor": 1
}